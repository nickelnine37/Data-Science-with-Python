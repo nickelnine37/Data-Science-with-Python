{
 "cells": [
  {
   "cell_type": "markdown",
   "metadata": {},
   "source": [
    "# 1. Introduction to Python\n",
    "\n",
    "![](images/logo.png)\n",
    "\n",
    "Welcome to your first Jupyter notebook! This is the program you will be using to learn Python in. \n",
    "\n",
    "## This notebook contains the code from the presentation\n",
    "\n",
    "Jupyter notebooks are made up of *cells*. There are two main types of cell\n",
    "\n",
    "1. **Markdown cells**: This is where you can write text with some basic features like \n",
    "\n",
    "* bold / italic,\n",
    "* tables, \n",
    "* images,\n",
    "* headings, \n",
    "* links,\n",
    "* numbering / bullet points. \n",
    "\n",
    "Markdown cells are useful for explaining what your code is doing. *This cell is a markdown cell.* More info about how to write markdown can be found [here](https://www.markdownguide.org/getting-started/). \n",
    "\n",
    "2. **Code cells**. This is where you can write and run snippets of Python code. In order to run your code, just type it into a code cell (that's one that has a `In[ ]` next to it), then click the run button in the top bar or use the keyboard shortcut `shift + enter` or `ctrl + enter`. The output (if there is any) will appear below. #\n",
    "\n",
    "Try it out in the cell below"
   ]
  },
  {
   "cell_type": "code",
   "execution_count": null,
   "metadata": {},
   "outputs": [],
   "source": [
    "\n",
    "print('Hello world')\n"
   ]
  },
  {
   "cell_type": "code",
   "execution_count": null,
   "metadata": {},
   "outputs": [],
   "source": [
    "\n",
    "print(2 + 2)\n"
   ]
  },
  {
   "cell_type": "code",
   "execution_count": null,
   "metadata": {},
   "outputs": [],
   "source": [
    "\n",
    "print(0.99 * 100)\n",
    "print(8 / 2)\n",
    "print(5 ** 2)\n"
   ]
  },
  {
   "cell_type": "code",
   "execution_count": null,
   "metadata": {},
   "outputs": [],
   "source": [
    "\n",
    "print(10 + 10 / 2)\n",
    "print((10 + 10) / 2)\n"
   ]
  },
  {
   "cell_type": "code",
   "execution_count": null,
   "metadata": {},
   "outputs": [],
   "source": [
    "\n",
    "print(1 / 0)\n"
   ]
  },
  {
   "cell_type": "code",
   "execution_count": null,
   "metadata": {},
   "outputs": [],
   "source": [
    "\n",
    "print 10\n"
   ]
  },
  {
   "cell_type": "code",
   "execution_count": null,
   "metadata": {},
   "outputs": [],
   "source": [
    "\n",
    "speed = 28\n",
    "print(speed)\n"
   ]
  },
  {
   "cell_type": "code",
   "execution_count": null,
   "metadata": {},
   "outputs": [],
   "source": [
    "\n",
    "speed = 567\n",
    "time = 15\n",
    "print(speed * time)\n"
   ]
  },
  {
   "cell_type": "code",
   "execution_count": null,
   "metadata": {},
   "outputs": [],
   "source": [
    "\n",
    "distance = speed * time\n",
    "print(distance)\n"
   ]
  },
  {
   "cell_type": "code",
   "execution_count": null,
   "metadata": {},
   "outputs": [],
   "source": [
    "\n",
    "my_number = 5\n",
    "print(my_number)\n",
    "my_number = 6\n",
    "print(my_number)\n"
   ]
  },
  {
   "cell_type": "code",
   "execution_count": null,
   "metadata": {},
   "outputs": [],
   "source": [
    "\n",
    "my_number = my_number + 1\n",
    "print(my_number)\n"
   ]
  },
  {
   "cell_type": "code",
   "execution_count": null,
   "metadata": {},
   "outputs": [],
   "source": [
    "\n",
    "print('a piece of text')\n"
   ]
  },
  {
   "cell_type": "code",
   "execution_count": null,
   "metadata": {},
   "outputs": [],
   "source": [
    "\n",
    "my_text = \"another piece of text :)\"\n",
    "print(my_text)\n"
   ]
  },
  {
   "cell_type": "code",
   "execution_count": null,
   "metadata": {},
   "outputs": [],
   "source": [
    "\n",
    "long_text = '''Lorem ipsum dolor sit amet, consectetur adipiscing elit, \n",
    "sed do eiusmod tempor incididunt ut labore et dolore magna aliqua. \n",
    "Ut enim ad minim veniam, quis nostrud exercitation ullamco laboris nisi \n",
    "ut aliquip ex ea commodo consequat. '''\n",
    "\n",
    "print(long_text)\n"
   ]
  },
  {
   "cell_type": "code",
   "execution_count": null,
   "metadata": {},
   "outputs": [],
   "source": [
    "\n",
    "first_name = 'Daveed'\n",
    "second_name = 'Diggs'\n",
    "full_name = first_name + ' ' + second_name\n",
    "print(full_name)\n"
   ]
  },
  {
   "cell_type": "code",
   "execution_count": null,
   "metadata": {},
   "outputs": [],
   "source": [
    "\n",
    "print('=' * 10)\n"
   ]
  },
  {
   "cell_type": "code",
   "execution_count": null,
   "metadata": {},
   "outputs": [],
   "source": [
    "\n",
    "print('a' - 'b')\n"
   ]
  },
  {
   "cell_type": "code",
   "execution_count": null,
   "metadata": {},
   "outputs": [],
   "source": [
    "\n",
    "print('hello' * 'h')\n"
   ]
  },
  {
   "cell_type": "code",
   "execution_count": null,
   "metadata": {},
   "outputs": [],
   "source": [
    "\n",
    "my_string = 'Monty Python'\n",
    "print(my_string[6])\n",
    "print(my_string[0])\n",
    "print(my_string[6:10])\n"
   ]
  },
  {
   "cell_type": "code",
   "execution_count": null,
   "metadata": {},
   "outputs": [],
   "source": [
    "\n",
    "my_list = [42, 'dog', -0.5, 'cat', 'fish']\n",
    "print(my_list)\n"
   ]
  },
  {
   "cell_type": "code",
   "execution_count": null,
   "metadata": {},
   "outputs": [],
   "source": [
    "\n",
    "my_list = [42, 'dog', -0.5, 'cat', 'fish']\n",
    "\n",
    "my_list_length = len(my_list)\n",
    "\n",
    "print(my_list_length)\n",
    "\n"
   ]
  },
  {
   "cell_type": "code",
   "execution_count": null,
   "metadata": {},
   "outputs": [],
   "source": [
    "\n",
    "print(my_list[0])\n",
    "print(my_list[1:3])\n"
   ]
  },
  {
   "cell_type": "code",
   "execution_count": null,
   "metadata": {},
   "outputs": [],
   "source": [
    "\n",
    "my_list = [42, 'dog', -0.5, 'cat', 'fish']\n",
    "\n",
    "my_list[0] = -11111\n",
    "\n",
    "print(my_list)\n"
   ]
  },
  {
   "cell_type": "code",
   "execution_count": null,
   "metadata": {},
   "outputs": [],
   "source": [
    "\n",
    "list1 = ['beans', 'cheese', 'jam']\n",
    "list2 = ['butter', 'nutella', 'marmite']\n",
    "list3 = list1 + list2\n",
    "print(list3)\n"
   ]
  },
  {
   "cell_type": "code",
   "execution_count": null,
   "metadata": {},
   "outputs": [],
   "source": [
    "\n",
    "list3 = list3 + ['peanut butter']\n",
    "print(list3)\n"
   ]
  },
  {
   "cell_type": "code",
   "execution_count": null,
   "metadata": {},
   "outputs": [],
   "source": [
    "\n",
    "list3.append('peanut butter')\n"
   ]
  },
  {
   "cell_type": "code",
   "execution_count": null,
   "metadata": {},
   "outputs": [],
   "source": [
    "\n",
    "empty_list = []\n",
    "empty_list.append('shoe')\n",
    "empty_list.append('glove')\n",
    "empty_list.append('sock')\n",
    "print(empty_list)\n"
   ]
  },
  {
   "cell_type": "code",
   "execution_count": null,
   "metadata": {},
   "outputs": [],
   "source": []
  }
 ],
 "metadata": {
  "kernelspec": {
   "display_name": "Python 3",
   "language": "python",
   "name": "python3"
  },
  "language_info": {
   "codemirror_mode": {
    "name": "ipython",
    "version": 3
   },
   "file_extension": ".py",
   "mimetype": "text/x-python",
   "name": "python",
   "nbconvert_exporter": "python",
   "pygments_lexer": "ipython3",
   "version": "3.7.3"
  }
 },
 "nbformat": 4,
 "nbformat_minor": 2
}
