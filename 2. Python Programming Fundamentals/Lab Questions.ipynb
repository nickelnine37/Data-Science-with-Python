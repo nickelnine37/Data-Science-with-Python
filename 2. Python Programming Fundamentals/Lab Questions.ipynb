{
 "cells": [
  {
   "cell_type": "markdown",
   "metadata": {},
   "source": [
    "# 2. Python Programming Fundamentals\n",
    "\n",
    "![](images/logo.png)\n",
    "\n",
    "Hello and welcome to the second week of the Python course! In this lab notebook we will be looking at the topics covered in the lecture. It is split into three exercises, one about `input()` and conditions, the second about loops, and the third about functions. Remember, if you get stuck for a while you can always check the answers notebook which is in the same folder. \n",
    "\n",
    "Good luck!\n",
    "\n",
    "# 1. Classifying animals\n",
    "\n",
    "\n",
    "![](images/animals.jpg)\n",
    "\n",
    "The goal of this exercise is to design a program for classifying animals into one of five groups, as in the above picture. This will be done by asking the user to think of animal, and then answer some questions about that animal. \n",
    "\n",
    "The first question we will ask will be \n",
    "\n",
    "> \"Is this animal warm-blooded? (yes/no)\"\n",
    "\n",
    "If they answer \"yes\", then we know the animal is either a mammal, a bird or a fish. If they answer \"no\", then we know it is either a reptile or an amphibian. Your task is to design further questions to determine exactly what type the animal is. Once you know what type the animal is, you should print it's type. \n",
    "\n",
    "Check out the code below. Try running it to see what it does. Once you are happy with what is going on, edit it to complete the task. You will need to use `input()` to ask some more questions, and then use the answer to determine what the animal type is using `if-else` statements. \n",
    "\n",
    "Goals of the exercise: \n",
    "\n",
    "* Use the `input()` function to ask the user questions about their animal and store their answers\n",
    "* Use their answers along with nested `if-else` statements to narrow down the animal type\n"
   ]
  },
  {
   "cell_type": "code",
   "execution_count": null,
   "metadata": {},
   "outputs": [],
   "source": [
    "warm_blooded = input('Is the animal warm-blooded? (yes/no) ')\n",
    "\n",
    "if warm_blooded == 'yes': \n",
    "    \n",
    "    print('The animal is warm-blooded ...')\n",
    "    \n",
    "    # ask a new question here ... \n",
    "    \n",
    "\n",
    "    \n",
    "else:\n",
    "    \n",
    "    print('The animal is cold-blooded ...')\n",
    "    \n",
    "    # ask a new question here .... "
   ]
  },
  {
   "cell_type": "markdown",
   "metadata": {},
   "source": [
    "# 2. Store discounts\n",
    "\n",
    "In this question we imaging a shop which has a list of items. The name of each item is stored in a list called `items`. Each item has an original price, which is stored in a list called `prices`. Each item also has a discount, which is stored in a list called `discounts`, which is represented as a percentage. \n",
    "\n",
    "For example, if our lists were \n",
    "\n",
    "```python\n",
    "items = ['Shoes', 'T-shirt', 'Gloves']\n",
    "prices = [25.00, 10.00, 20.00]\n",
    "discounts = [20, 10, 0]\n",
    "```\n",
    "\n",
    "then this means the store has three items: shoes, t-shirts and gloves, which cost £25.00, £15.00 and £20.00 respectively. They also have discounts of 20%, 10% and 0% respectively. \n",
    "\n",
    "The goal is to write a loop that goes through each item, and prints its name along with the new discounted price. So, for the above example, the output should be\n",
    "\n",
    "```\n",
    "Shoes 20.00\n",
    "T-shirt 9.00\n",
    "Gloves 20.00\n",
    "```\n",
    "\n",
    "In order to achieve this you will need to use a `for` loop with the `range()` function to create a list of numbers that goes from 0 to n-1, where n is the number of items in the store. Then, you will need to use indexing to find the next item, it's original price, and use the discount to calculate the new price. \n",
    "\n",
    "Goals of this exercise:\n",
    "\n",
    "* Use `len()` to find out how many items there are in total in the store\n",
    "* Use a `for` loop with the `range()` function to create  a list of numbers going from 0 to n-1. \n",
    "* Use indexing to get each item, its price and its discount\n",
    "* Calculate the new price and then print it\n",
    "\n",
    "Here's some code to get you started"
   ]
  },
  {
   "cell_type": "code",
   "execution_count": null,
   "metadata": {},
   "outputs": [],
   "source": [
    "items = ['Paint', 'Plaster-board', 'Sand-paper', 'Screwdriver', 'Drill', 'Bucket', 'Cement', 'Tiles', 'Lawn-mower']\n",
    "\n",
    "prices = [16.00, 9.00, 2.50, 8.00, 42.00, 1.90, 19.99, 32.00, 245.00]\n",
    "\n",
    "discounts = [10, 15, 0, 12.5, 15, 0, 10, 10, 30]\n",
    "\n",
    "num_items = len(items)\n",
    "\n",
    "for i in range(num_items):\n",
    "    \n",
    "    # your code here\n",
    "    \n",
    "    print(items[i])\n",
    "    \n"
   ]
  },
  {
   "cell_type": "markdown",
   "metadata": {},
   "source": [
    "# 3. Fuel cost calculator\n",
    "\n",
    "The purpose of this question is to write some functions to help us calculate the fuel cost for a long car trip. The journey length is given in kilometers, we know our car fuel consumption in miles per gallon, and we know the fuel cost in pence per litre. \n",
    "\n",
    "To do this, we will define three functions:\n",
    "\n",
    "* `km_to_miles(distance_km)` which converts kilometers to miles\n",
    "* `gallons_to_litres(volume_gallons)` which converts gallons to litres\n",
    "* `trip_cost(distance_km, fuel_cost_ppl)` which tells you how much the trip will cost given a length in km and a fuel cost in pence per litres\n",
    "\n",
    "\n",
    "## a) `km_to_miles()`\n",
    "\n",
    "1 mile is approximately 0.62 miles. Use this information to write a function called `km_to_miles()` which takes a single input called `distance_km`. The function should convert this distance, given in km, to the equivalent distance in miles and return this. "
   ]
  },
  {
   "cell_type": "code",
   "execution_count": null,
   "metadata": {},
   "outputs": [],
   "source": [
    "# your code here"
   ]
  },
  {
   "cell_type": "markdown",
   "metadata": {},
   "source": [
    "## b) `gallons_to_litres()`\n",
    "\n",
    "1 gallon is approximately 4.54 litres. Use this information to create a function called `gallons_to_litres()` which accepts a single input called `volume_gallons`. The function should convert this volume, given in gallons, to the equivalent volume in litres, and return this. "
   ]
  },
  {
   "cell_type": "code",
   "execution_count": null,
   "metadata": {},
   "outputs": [],
   "source": [
    "# your code here"
   ]
  },
  {
   "cell_type": "markdown",
   "metadata": {},
   "source": [
    "## c) `trip_cost()`\n",
    "\n",
    "Write a new function called `trip_cost()` which accepts three inputs called `distance_km`, `consumption`, and `fuel_cost_ppl`. The first input represents the total distance of the trip. The second represents the consumption of the car in miles per gallon. The third input represents the fuel cost in pence per litre. The function should use the two functions you have already created to calculate the total cost of the trip in pounds. "
   ]
  },
  {
   "cell_type": "code",
   "execution_count": null,
   "metadata": {},
   "outputs": [],
   "source": [
    "# your code here"
   ]
  },
  {
   "cell_type": "markdown",
   "metadata": {},
   "source": [
    "## d) An example\n",
    "\n",
    "The car journey from London to Edinburgh is approximately 679 miles. If fuel costs 112p per litre, what is the approximate cost of the trip, given a car which has a consumption of 55 miles per gallon?"
   ]
  },
  {
   "cell_type": "code",
   "execution_count": null,
   "metadata": {},
   "outputs": [],
   "source": [
    "journey_length = 679     # journey length in km\n",
    "fuel_cost = 112          # fuel cost in pence per litre\n",
    "consumption = 55         # car consumption in miles per gallon\n",
    "\n",
    "# your code here"
   ]
  },
  {
   "cell_type": "code",
   "execution_count": null,
   "metadata": {},
   "outputs": [],
   "source": []
  }
 ],
 "metadata": {
  "kernelspec": {
   "display_name": "Python 3",
   "language": "python",
   "name": "python3"
  },
  "language_info": {
   "codemirror_mode": {
    "name": "ipython",
    "version": 3
   },
   "file_extension": ".py",
   "mimetype": "text/x-python",
   "name": "python",
   "nbconvert_exporter": "python",
   "pygments_lexer": "ipython3",
   "version": "3.7.3"
  }
 },
 "nbformat": 4,
 "nbformat_minor": 4
}
